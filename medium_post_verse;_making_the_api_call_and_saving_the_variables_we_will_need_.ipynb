{
  "nbformat": 4,
  "nbformat_minor": 0,
  "metadata": {
    "colab": {
      "provenance": [],
      "authorship_tag": "ABX9TyNEXo3HhNONEquryPUC8z4l",
      "include_colab_link": true
    },
    "kernelspec": {
      "name": "python3",
      "display_name": "Python 3"
    },
    "language_info": {
      "name": "python"
    }
  },
  "cells": [
    {
      "cell_type": "markdown",
      "metadata": {
        "id": "view-in-github",
        "colab_type": "text"
      },
      "source": [
        "<a href=\"https://colab.research.google.com/github/NWOYESTEPEHN/APIs_Using_python/blob/main/medium_post_verse%3B_making_the_api_call_and_saving_the_variables_we_will_need_.ipynb\" target=\"_parent\"><img src=\"https://colab.research.google.com/assets/colab-badge.svg\" alt=\"Open In Colab\"/></a>"
      ]
    },
    {
      "cell_type": "code",
      "source": [
        "from dotenv import load_dotenv\n",
        "import os\n",
        "\n",
        "# Load environment variables from .env file\n",
        "load_dotenv()\n",
        "\n",
        "# Access the API key\n",
        "api_key = os.getenv(\"API_KEY\")\n"
      ],
      "metadata": {
        "id": "ZToStCyxwiub"
      },
      "execution_count": 4,
      "outputs": []
    },
    {
      "cell_type": "code",
      "source": [
        "\n",
        "#import libraries\n",
        "import requests\n",
        "import pandas as pd\n",
        "import time\n",
        ""
      ],
      "metadata": {
        "id": "uTY552Q3wu7X"
      },
      "execution_count": 5,
      "outputs": []
    },
    {
      "cell_type": "code",
      "source": [
        "#Keys\n",
        "API_KEY = api_key\n",
        "CHANNEL_ID = \"UCW8Ews7tdKKkBT6GdtQaXvQ\""
      ],
      "metadata": {
        "id": "1F0KPBfMw-ZK"
      },
      "execution_count": 6,
      "outputs": []
    },
    {
      "cell_type": "code",
      "source": [
        "#make an Api_call test\n",
        "pageToken = \" \"\n",
        "url = \"https://www.googleapis.com/youtube/v3/search?key=\"+API_KEY+\"&channelId=\"+CHANNEL_ID+\"&part=snippet,id&order=date&maxResults=10000&\"+pageToken\n",
        "response = requests.get(url).json()"
      ],
      "metadata": {
        "id": "pL6mCO6WzjxY"
      },
      "execution_count": 24,
      "outputs": []
    },
    {
      "cell_type": "code",
      "source": [
        "response['items'][0]\n",
        "#From this responses, all we need to proceed is in the items key"
      ],
      "metadata": {
        "id": "0FIuUGJp-bSo"
      },
      "execution_count": null,
      "outputs": []
    },
    {
      "cell_type": "code",
      "source": [
        "#Let save all the variables we will be needing\n",
        "video_id = response['items'][0]['id']['videoId']\n",
        "video_title = response['items'][0]['snippet']['title']\n",
        "video_title = str(video_title).replace(\"&\",\"\")\n",
        "upload_date = response['items'][0]['snippet']['publishedAt']\n",
        "upload_date = str(upload_date).split(\"T\")[0]\n"
      ],
      "metadata": {
        "id": "REmANocmFDZo"
      },
      "execution_count": 36,
      "outputs": []
    }
  ]
}