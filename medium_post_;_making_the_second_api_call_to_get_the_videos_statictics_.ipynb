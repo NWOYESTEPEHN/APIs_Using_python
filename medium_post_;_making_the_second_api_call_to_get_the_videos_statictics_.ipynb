{
  "nbformat": 4,
  "nbformat_minor": 0,
  "metadata": {
    "colab": {
      "provenance": [],
      "authorship_tag": "ABX9TyO6dTb+YUKNgFMYJFX9kS8a",
      "include_colab_link": true
    },
    "kernelspec": {
      "name": "python3",
      "display_name": "Python 3"
    },
    "language_info": {
      "name": "python"
    }
  },
  "cells": [
    {
      "cell_type": "markdown",
      "metadata": {
        "id": "view-in-github",
        "colab_type": "text"
      },
      "source": [
        "<a href=\"https://colab.research.google.com/github/NWOYESTEPEHN/APIs_Using_python/blob/main/medium_post_%3B_making_the_second_api_call_to_get_the_videos_statictics_.ipynb\" target=\"_parent\"><img src=\"https://colab.research.google.com/assets/colab-badge.svg\" alt=\"Open In Colab\"/></a>"
      ]
    },
    {
      "cell_type": "code",
      "source": [
        "from dotenv import load_dotenv\n",
        "import os\n",
        "\n",
        "# Load environment variables from .env file\n",
        "load_dotenv()\n",
        "\n",
        "# Access the API key\n",
        "api_key = os.getenv(\"API_KEY\")\n"
      ],
      "metadata": {
        "id": "bTsixFGGIqFU"
      },
      "execution_count": null,
      "outputs": []
    },
    {
      "cell_type": "code",
      "source": [
        "#import libraries\n",
        "import requests\n",
        "import pandas as pd\n",
        "import time\n",
        ""
      ],
      "metadata": {
        "id": "FpCg99jATByQ"
      },
      "execution_count": null,
      "outputs": []
    },
    {
      "cell_type": "code",
      "source": [
        "#Keys\n",
        "API_KEY = api_key\n",
        "CHANNEL_ID = \"UCW8Ews7tdKKkBT6GdtQaXvQ\""
      ],
      "metadata": {
        "id": "LjqRFzwLTGDv"
      },
      "execution_count": null,
      "outputs": []
    },
    {
      "cell_type": "code",
      "source": [
        "    #collecting view, like, dislike, comment counts\n",
        "    url_video_stats = \"https://www.googleapis.com/youtube/v3/videos?id=\"+video_id+\"&part=statistics&key=\"+API_KEY\n",
        "    response_video_stats = requests.get(url_video_stats).json()\n"
      ],
      "metadata": {
        "id": "blJ55BjRTNEV"
      },
      "execution_count": null,
      "outputs": []
    },
    {
      "cell_type": "code",
      "source": [
        "response_video_stats['items'][0]"
      ],
      "metadata": {
        "id": "gIPnbPW4TRap"
      },
      "execution_count": null,
      "outputs": []
    },
    {
      "cell_type": "code",
      "source": [
        "#so after making the first Api call, we made a second one to collect the statistics of the vidoes. so let save the variables of our second Api call\n",
        "view_count = response_video_stats['items'][0]['statistics']['viewCount']\n",
        "like_count = response_video_stats['items'][0]['statistics']['likeCount']\n",
        "comment_count = response_video_stats['items'][0]['statistics']['commentCount']"
      ],
      "metadata": {
        "id": "T0934DraTRdj"
      },
      "execution_count": null,
      "outputs": []
    }
  ]
}