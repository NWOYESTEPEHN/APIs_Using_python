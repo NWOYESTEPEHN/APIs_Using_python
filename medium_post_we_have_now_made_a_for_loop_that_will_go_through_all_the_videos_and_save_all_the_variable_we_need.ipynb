{
  "nbformat": 4,
  "nbformat_minor": 0,
  "metadata": {
    "colab": {
      "provenance": [],
      "authorship_tag": "ABX9TyMD/rNKzGsHK2odgcEyjpRz",
      "include_colab_link": true
    },
    "kernelspec": {
      "name": "python3",
      "display_name": "Python 3"
    },
    "language_info": {
      "name": "python"
    }
  },
  "cells": [
    {
      "cell_type": "markdown",
      "metadata": {
        "id": "view-in-github",
        "colab_type": "text"
      },
      "source": [
        "<a href=\"https://colab.research.google.com/github/NWOYESTEPEHN/APIs_Using_python/blob/main/medium_post_we_have_now_made_a_for_loop_that_will_go_through_all_the_videos_and_save_all_the_variable_we_need.ipynb\" target=\"_parent\"><img src=\"https://colab.research.google.com/assets/colab-badge.svg\" alt=\"Open In Colab\"/></a>"
      ]
    },
    {
      "cell_type": "code",
      "source": [
        "#The code above can only save the variables of the first video: [0], to save all the videos variable we need a for loop:\n",
        "for video in response['items']:\n",
        "  #Let add some logic to make sure that what we are saving is a youtube video\n",
        "    if video['id']['kind'] == \"youtube#video\":\n",
        "      video_id = video['id']['videoId']\n",
        "      video_title = video['snippet']['title']\n",
        "      video_title = str(video_title).replace(\"&\",\"\")\n",
        "      upload_date = video['snippet']['publishedAt']\n",
        "      upload_date = str(upload_date).split(\"T\")[0]\n",
        "\n",
        "      #let test it out\n",
        "      print(video_id)\n",
        "      print(video_title)\n",
        "      print(upload_date)"
      ],
      "metadata": {
        "id": "bTsixFGGIqFU"
      },
      "execution_count": null,
      "outputs": []
    }
  ]
}