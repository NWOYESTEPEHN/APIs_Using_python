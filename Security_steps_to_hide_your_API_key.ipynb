{
  "nbformat": 4,
  "nbformat_minor": 0,
  "metadata": {
    "colab": {
      "provenance": [],
      "authorship_tag": "ABX9TyOxsndKI9cpOs3Q1z+ZUGHW",
      "include_colab_link": true
    },
    "kernelspec": {
      "name": "python3",
      "display_name": "Python 3"
    },
    "language_info": {
      "name": "python"
    }
  },
  "cells": [
    {
      "cell_type": "markdown",
      "metadata": {
        "id": "view-in-github",
        "colab_type": "text"
      },
      "source": [
        "<a href=\"https://colab.research.google.com/github/NWOYESTEPEHN/APIs_Using_python/blob/main/Security_steps_to_hide_your_API_key.ipynb\" target=\"_parent\"><img src=\"https://colab.research.google.com/assets/colab-badge.svg\" alt=\"Open In Colab\"/></a>"
      ]
    },
    {
      "cell_type": "markdown",
      "source": [
        "* Install the python-dotenv package: In a code cell of your Colab notebook, run the following command to install the python-dotenv package:"
      ],
      "metadata": {
        "id": "a5knIUfK6H8g"
      }
    },
    {
      "cell_type": "code",
      "execution_count": null,
      "metadata": {
        "id": "BBBEYzzu4tqj"
      },
      "outputs": [],
      "source": [
        "pip install python-dotenv"
      ]
    },
    {
      "cell_type": "markdown",
      "source": [
        "* Create a .env file in Colab: In a code cell, create the .env file by running the following command:"
      ],
      "metadata": {
        "id": "eqyy0xKr6B_x"
      }
    },
    {
      "cell_type": "code",
      "source": [
        "%%writefile .env\n",
        "API_KEY=YOUR_API_KEY"
      ],
      "metadata": {
        "id": "kNfjXqYp5pJJ"
      },
      "execution_count": null,
      "outputs": []
    },
    {
      "cell_type": "markdown",
      "source": [
        "Replace YOUR_API_KEY with your actual API key value. Make sure to keep the .env file in the same directory as your Colab notebook.\n",
        "\n",
        "* Load environment variables in your Colab notebook: In the code cell where you need to access the API key, add the following code:\n",
        "\n"
      ],
      "metadata": {
        "id": "4ziI8TXP51yN"
      }
    },
    {
      "cell_type": "code",
      "source": [
        "from dotenv import load_dotenv\n",
        "import os\n",
        "\n",
        "# Load environment variables from .env file\n",
        "load_dotenv()\n",
        "\n",
        "# Access the API key\n",
        "api_key = os.getenv(\"API_KEY\")"
      ],
      "metadata": {
        "id": "cIm6JhdM50MY"
      },
      "execution_count": null,
      "outputs": []
    },
    {
      "cell_type": "markdown",
      "source": [
        "This code imports the necessary modules, loads the environment variables from the .env file, and retrieves the value of the API key using os.getenv().\n",
        "\n"
      ],
      "metadata": {
        "id": "viys4VxT6puW"
      }
    }
  ]
}